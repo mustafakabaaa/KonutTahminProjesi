{
 "cells": [
  {
   "cell_type": "code",
   "execution_count": 3,
   "id": "1a57b86c",
   "metadata": {},
   "outputs": [],
   "source": [
    "import pandas as pd"
   ]
  },
  {
   "cell_type": "code",
   "execution_count": 4,
   "id": "3b360e2d",
   "metadata": {},
   "outputs": [
    {
     "data": {
      "text/html": [
       "<div>\n",
       "<style scoped>\n",
       "    .dataframe tbody tr th:only-of-type {\n",
       "        vertical-align: middle;\n",
       "    }\n",
       "\n",
       "    .dataframe tbody tr th {\n",
       "        vertical-align: top;\n",
       "    }\n",
       "\n",
       "    .dataframe thead th {\n",
       "        text-align: right;\n",
       "    }\n",
       "</style>\n",
       "<table border=\"1\" class=\"dataframe\">\n",
       "  <thead>\n",
       "    <tr style=\"text-align: right;\">\n",
       "      <th></th>\n",
       "      <th>yas</th>\n",
       "      <th>Bina_kat_sayisi</th>\n",
       "      <th>net_alan</th>\n",
       "      <th>oda_sayisi</th>\n",
       "      <th>kat</th>\n",
       "      <th>isinma</th>\n",
       "      <th>ilce</th>\n",
       "      <th>fiyat</th>\n",
       "    </tr>\n",
       "  </thead>\n",
       "  <tbody>\n",
       "    <tr>\n",
       "      <th>0</th>\n",
       "      <td>0-</td>\n",
       "      <td>0-5</td>\n",
       "      <td>170+</td>\n",
       "      <td>5+1</td>\n",
       "      <td>0.Kat</td>\n",
       "      <td>Kombi Doğalgaz</td>\n",
       "      <td>Beylikdüzü</td>\n",
       "      <td>12000000</td>\n",
       "    </tr>\n",
       "    <tr>\n",
       "      <th>1</th>\n",
       "      <td>0-</td>\n",
       "      <td>0-5</td>\n",
       "      <td>102-128</td>\n",
       "      <td>2+1</td>\n",
       "      <td>0.Kat</td>\n",
       "      <td>Kombi Doğalgaz</td>\n",
       "      <td>Beylikdüzü</td>\n",
       "      <td>579000</td>\n",
       "    </tr>\n",
       "    <tr>\n",
       "      <th>2</th>\n",
       "      <td>0-</td>\n",
       "      <td>0-5</td>\n",
       "      <td>128-170</td>\n",
       "      <td>3+1</td>\n",
       "      <td>Çatı Dubleks</td>\n",
       "      <td>Kombi Doğalgaz</td>\n",
       "      <td>Beylikdüzü</td>\n",
       "      <td>1179000</td>\n",
       "    </tr>\n",
       "    <tr>\n",
       "      <th>3</th>\n",
       "      <td>5-10</td>\n",
       "      <td>5_20</td>\n",
       "      <td>102-128</td>\n",
       "      <td>3+1</td>\n",
       "      <td>3. Kat</td>\n",
       "      <td>Kombi Doğalgaz</td>\n",
       "      <td>Beylikdüzü</td>\n",
       "      <td>2500000</td>\n",
       "    </tr>\n",
       "    <tr>\n",
       "      <th>4</th>\n",
       "      <td>4</td>\n",
       "      <td>0-5</td>\n",
       "      <td>85-102</td>\n",
       "      <td>2+1</td>\n",
       "      <td>0.Kat</td>\n",
       "      <td>Kombi Doğalgaz</td>\n",
       "      <td>Beylikdüzü</td>\n",
       "      <td>820000</td>\n",
       "    </tr>\n",
       "  </tbody>\n",
       "</table>\n",
       "</div>"
      ],
      "text/plain": [
       "    yas Bina_kat_sayisi net_alan oda_sayisi           kat          isinma  \\\n",
       "0    0-             0-5     170+        5+1         0.Kat  Kombi Doğalgaz   \n",
       "1    0-             0-5  102-128        2+1         0.Kat  Kombi Doğalgaz   \n",
       "2    0-             0-5  128-170        3+1  Çatı Dubleks  Kombi Doğalgaz   \n",
       "3  5-10            5_20  102-128        3+1        3. Kat  Kombi Doğalgaz   \n",
       "4     4             0-5   85-102        2+1         0.Kat  Kombi Doğalgaz   \n",
       "\n",
       "          ilce     fiyat  \n",
       "0  Beylikdüzü   12000000  \n",
       "1  Beylikdüzü     579000  \n",
       "2  Beylikdüzü    1179000  \n",
       "3  Beylikdüzü    2500000  \n",
       "4  Beylikdüzü     820000  "
      ]
     },
     "execution_count": 4,
     "metadata": {},
     "output_type": "execute_result"
    }
   ],
   "source": [
    "df = pd.read_excel(\"zingat321.xlsx\")\n",
    "df.drop(\"Unnamed: 0\", axis = 1, inplace = True)\n",
    "df.head()"
   ]
  },
  {
   "cell_type": "code",
   "execution_count": 5,
   "id": "1174dc06",
   "metadata": {
    "scrolled": true
   },
   "outputs": [
    {
     "data": {
      "text/html": [
       "<div>\n",
       "<style scoped>\n",
       "    .dataframe tbody tr th:only-of-type {\n",
       "        vertical-align: middle;\n",
       "    }\n",
       "\n",
       "    .dataframe tbody tr th {\n",
       "        vertical-align: top;\n",
       "    }\n",
       "\n",
       "    .dataframe thead th {\n",
       "        text-align: right;\n",
       "    }\n",
       "</style>\n",
       "<table border=\"1\" class=\"dataframe\">\n",
       "  <thead>\n",
       "    <tr style=\"text-align: right;\">\n",
       "      <th></th>\n",
       "      <th>yas</th>\n",
       "      <th>Bina_kat_sayisi</th>\n",
       "      <th>net_alan</th>\n",
       "      <th>oda_sayisi</th>\n",
       "      <th>kat</th>\n",
       "      <th>isinma</th>\n",
       "      <th>ilce</th>\n",
       "      <th>fiyat</th>\n",
       "    </tr>\n",
       "  </thead>\n",
       "  <tbody>\n",
       "    <tr>\n",
       "      <th>0</th>\n",
       "      <td>0-</td>\n",
       "      <td>0-5</td>\n",
       "      <td>170+</td>\n",
       "      <td>5+1</td>\n",
       "      <td>0.Kat</td>\n",
       "      <td>Kombi Doğalgaz</td>\n",
       "      <td>Beylikdüzü</td>\n",
       "      <td>12000000</td>\n",
       "    </tr>\n",
       "    <tr>\n",
       "      <th>1</th>\n",
       "      <td>0-</td>\n",
       "      <td>0-5</td>\n",
       "      <td>102-128</td>\n",
       "      <td>2+1</td>\n",
       "      <td>0.Kat</td>\n",
       "      <td>Kombi Doğalgaz</td>\n",
       "      <td>Beylikdüzü</td>\n",
       "      <td>579000</td>\n",
       "    </tr>\n",
       "    <tr>\n",
       "      <th>2</th>\n",
       "      <td>0-</td>\n",
       "      <td>0-5</td>\n",
       "      <td>128-170</td>\n",
       "      <td>3+1</td>\n",
       "      <td>Çatı Dubleks</td>\n",
       "      <td>Kombi Doğalgaz</td>\n",
       "      <td>Beylikdüzü</td>\n",
       "      <td>1179000</td>\n",
       "    </tr>\n",
       "    <tr>\n",
       "      <th>3</th>\n",
       "      <td>5-10</td>\n",
       "      <td>5_20</td>\n",
       "      <td>102-128</td>\n",
       "      <td>3+1</td>\n",
       "      <td>3. Kat</td>\n",
       "      <td>Kombi Doğalgaz</td>\n",
       "      <td>Beylikdüzü</td>\n",
       "      <td>2500000</td>\n",
       "    </tr>\n",
       "    <tr>\n",
       "      <th>4</th>\n",
       "      <td>4</td>\n",
       "      <td>0-5</td>\n",
       "      <td>85-102</td>\n",
       "      <td>2+1</td>\n",
       "      <td>0.Kat</td>\n",
       "      <td>Kombi Doğalgaz</td>\n",
       "      <td>Beylikdüzü</td>\n",
       "      <td>820000</td>\n",
       "    </tr>\n",
       "    <tr>\n",
       "      <th>...</th>\n",
       "      <td>...</td>\n",
       "      <td>...</td>\n",
       "      <td>...</td>\n",
       "      <td>...</td>\n",
       "      <td>...</td>\n",
       "      <td>...</td>\n",
       "      <td>...</td>\n",
       "      <td>...</td>\n",
       "    </tr>\n",
       "    <tr>\n",
       "      <th>844</th>\n",
       "      <td>21-40</td>\n",
       "      <td>0-5</td>\n",
       "      <td>0-85</td>\n",
       "      <td>2+1</td>\n",
       "      <td>-1.Kat</td>\n",
       "      <td>Kombi Doğalgaz</td>\n",
       "      <td>Ümraniye</td>\n",
       "      <td>1050000</td>\n",
       "    </tr>\n",
       "    <tr>\n",
       "      <th>845</th>\n",
       "      <td>11-15</td>\n",
       "      <td>0-5</td>\n",
       "      <td>85-102</td>\n",
       "      <td>2+1</td>\n",
       "      <td>-1.Kat</td>\n",
       "      <td>Kombi Doğalgaz</td>\n",
       "      <td>Şile</td>\n",
       "      <td>1210000</td>\n",
       "    </tr>\n",
       "    <tr>\n",
       "      <th>846</th>\n",
       "      <td>4</td>\n",
       "      <td>0-5</td>\n",
       "      <td>102-128</td>\n",
       "      <td>3+1</td>\n",
       "      <td>2. Kat</td>\n",
       "      <td>Kombi Doğalgaz</td>\n",
       "      <td>Şile</td>\n",
       "      <td>5600000</td>\n",
       "    </tr>\n",
       "    <tr>\n",
       "      <th>847</th>\n",
       "      <td>11-15</td>\n",
       "      <td>0-5</td>\n",
       "      <td>0-85</td>\n",
       "      <td>2+1</td>\n",
       "      <td>0.Kat</td>\n",
       "      <td>Kombi Doğalgaz</td>\n",
       "      <td>Maltepe</td>\n",
       "      <td>1249000</td>\n",
       "    </tr>\n",
       "    <tr>\n",
       "      <th>848</th>\n",
       "      <td>4</td>\n",
       "      <td>0-5</td>\n",
       "      <td>85-102</td>\n",
       "      <td>2+1</td>\n",
       "      <td>1. Kat</td>\n",
       "      <td>Kombi Doğalgaz</td>\n",
       "      <td>Beylikdüzü</td>\n",
       "      <td>2200000</td>\n",
       "    </tr>\n",
       "  </tbody>\n",
       "</table>\n",
       "<p>849 rows × 8 columns</p>\n",
       "</div>"
      ],
      "text/plain": [
       "       yas Bina_kat_sayisi net_alan oda_sayisi           kat          isinma  \\\n",
       "0       0-             0-5     170+        5+1         0.Kat  Kombi Doğalgaz   \n",
       "1       0-             0-5  102-128        2+1         0.Kat  Kombi Doğalgaz   \n",
       "2       0-             0-5  128-170        3+1  Çatı Dubleks  Kombi Doğalgaz   \n",
       "3     5-10            5_20  102-128        3+1        3. Kat  Kombi Doğalgaz   \n",
       "4        4             0-5   85-102        2+1         0.Kat  Kombi Doğalgaz   \n",
       "..     ...             ...      ...        ...           ...             ...   \n",
       "844  21-40             0-5     0-85        2+1        -1.Kat  Kombi Doğalgaz   \n",
       "845  11-15             0-5   85-102        2+1        -1.Kat  Kombi Doğalgaz   \n",
       "846      4             0-5  102-128        3+1        2. Kat  Kombi Doğalgaz   \n",
       "847  11-15             0-5     0-85        2+1         0.Kat  Kombi Doğalgaz   \n",
       "848      4             0-5   85-102        2+1        1. Kat  Kombi Doğalgaz   \n",
       "\n",
       "            ilce     fiyat  \n",
       "0    Beylikdüzü   12000000  \n",
       "1    Beylikdüzü     579000  \n",
       "2    Beylikdüzü    1179000  \n",
       "3    Beylikdüzü    2500000  \n",
       "4    Beylikdüzü     820000  \n",
       "..           ...       ...  \n",
       "844    Ümraniye    1050000  \n",
       "845        Şile    1210000  \n",
       "846        Şile    5600000  \n",
       "847     Maltepe    1249000  \n",
       "848  Beylikdüzü    2200000  \n",
       "\n",
       "[849 rows x 8 columns]"
      ]
     },
     "execution_count": 5,
     "metadata": {},
     "output_type": "execute_result"
    }
   ],
   "source": [
    "df"
   ]
  },
  {
   "cell_type": "code",
   "execution_count": 6,
   "id": "9d3d1f2e",
   "metadata": {},
   "outputs": [],
   "source": [
    "df_5=df"
   ]
  },
  {
   "cell_type": "code",
   "execution_count": 7,
   "id": "85f5cfcc",
   "metadata": {},
   "outputs": [
    {
     "data": {
      "text/html": [
       "<div>\n",
       "<style scoped>\n",
       "    .dataframe tbody tr th:only-of-type {\n",
       "        vertical-align: middle;\n",
       "    }\n",
       "\n",
       "    .dataframe tbody tr th {\n",
       "        vertical-align: top;\n",
       "    }\n",
       "\n",
       "    .dataframe thead th {\n",
       "        text-align: right;\n",
       "    }\n",
       "</style>\n",
       "<table border=\"1\" class=\"dataframe\">\n",
       "  <thead>\n",
       "    <tr style=\"text-align: right;\">\n",
       "      <th></th>\n",
       "      <th>yas</th>\n",
       "      <th>Bina_kat_sayisi</th>\n",
       "      <th>net_alan</th>\n",
       "      <th>oda_sayisi</th>\n",
       "      <th>kat</th>\n",
       "      <th>isinma</th>\n",
       "      <th>ilce</th>\n",
       "      <th>fiyat</th>\n",
       "    </tr>\n",
       "  </thead>\n",
       "  <tbody>\n",
       "    <tr>\n",
       "      <th>0</th>\n",
       "      <td>0-</td>\n",
       "      <td>0-5</td>\n",
       "      <td>170+</td>\n",
       "      <td>5+1</td>\n",
       "      <td>0.Kat</td>\n",
       "      <td>Kombi Doğalgaz</td>\n",
       "      <td>Beylikdüzü</td>\n",
       "      <td>12000000</td>\n",
       "    </tr>\n",
       "    <tr>\n",
       "      <th>1</th>\n",
       "      <td>0-</td>\n",
       "      <td>0-5</td>\n",
       "      <td>102-128</td>\n",
       "      <td>2+1</td>\n",
       "      <td>0.Kat</td>\n",
       "      <td>Kombi Doğalgaz</td>\n",
       "      <td>Beylikdüzü</td>\n",
       "      <td>579000</td>\n",
       "    </tr>\n",
       "    <tr>\n",
       "      <th>2</th>\n",
       "      <td>0-</td>\n",
       "      <td>0-5</td>\n",
       "      <td>128-170</td>\n",
       "      <td>3+1</td>\n",
       "      <td>Çatı Dubleks</td>\n",
       "      <td>Kombi Doğalgaz</td>\n",
       "      <td>Beylikdüzü</td>\n",
       "      <td>1179000</td>\n",
       "    </tr>\n",
       "    <tr>\n",
       "      <th>3</th>\n",
       "      <td>5-10</td>\n",
       "      <td>5_20</td>\n",
       "      <td>102-128</td>\n",
       "      <td>3+1</td>\n",
       "      <td>3. Kat</td>\n",
       "      <td>Kombi Doğalgaz</td>\n",
       "      <td>Beylikdüzü</td>\n",
       "      <td>2500000</td>\n",
       "    </tr>\n",
       "    <tr>\n",
       "      <th>4</th>\n",
       "      <td>4</td>\n",
       "      <td>0-5</td>\n",
       "      <td>85-102</td>\n",
       "      <td>2+1</td>\n",
       "      <td>0.Kat</td>\n",
       "      <td>Kombi Doğalgaz</td>\n",
       "      <td>Beylikdüzü</td>\n",
       "      <td>820000</td>\n",
       "    </tr>\n",
       "  </tbody>\n",
       "</table>\n",
       "</div>"
      ],
      "text/plain": [
       "    yas Bina_kat_sayisi net_alan oda_sayisi           kat          isinma  \\\n",
       "0    0-             0-5     170+        5+1         0.Kat  Kombi Doğalgaz   \n",
       "1    0-             0-5  102-128        2+1         0.Kat  Kombi Doğalgaz   \n",
       "2    0-             0-5  128-170        3+1  Çatı Dubleks  Kombi Doğalgaz   \n",
       "3  5-10            5_20  102-128        3+1        3. Kat  Kombi Doğalgaz   \n",
       "4     4             0-5   85-102        2+1         0.Kat  Kombi Doğalgaz   \n",
       "\n",
       "          ilce     fiyat  \n",
       "0  Beylikdüzü   12000000  \n",
       "1  Beylikdüzü     579000  \n",
       "2  Beylikdüzü    1179000  \n",
       "3  Beylikdüzü    2500000  \n",
       "4  Beylikdüzü     820000  "
      ]
     },
     "execution_count": 7,
     "metadata": {},
     "output_type": "execute_result"
    }
   ],
   "source": [
    "df_5.head()\n"
   ]
  },
  {
   "cell_type": "code",
   "execution_count": 8,
   "id": "f710f28e",
   "metadata": {},
   "outputs": [
    {
     "data": {
      "text/plain": [
       "Index(['yas', 'Bina_kat_sayisi', 'net_alan', 'oda_sayisi', 'kat', 'isinma',\n",
       "       'ilce', 'fiyat'],\n",
       "      dtype='object')"
      ]
     },
     "execution_count": 8,
     "metadata": {},
     "output_type": "execute_result"
    }
   ],
   "source": [
    "df_5.columns\n"
   ]
  },
  {
   "cell_type": "code",
   "execution_count": 9,
   "id": "4c567f50",
   "metadata": {},
   "outputs": [],
   "source": [
    "import pandas as pd\n",
    "\n"
   ]
  },
  {
   "cell_type": "code",
   "execution_count": 10,
   "id": "cf5333a2",
   "metadata": {},
   "outputs": [],
   "source": [
    "df = pd.read_excel(\"zingat321.xlsx\")\n",
    "df.drop(\"Unnamed: 0\", axis = 1, inplace = True)\n",
    "df_5 = df.copy()\n",
    "df_6 = df.copy()\n"
   ]
  },
  {
   "cell_type": "code",
   "execution_count": 12,
   "id": "074c336a",
   "metadata": {
    "scrolled": false
   },
   "outputs": [
    {
     "data": {
      "text/plain": [
       "0.Kat           218\n",
       "1. Kat          189\n",
       "2. Kat          135\n",
       "4. Kat          103\n",
       "5+Kat           102\n",
       "-1.Kat           47\n",
       "3. Kat           35\n",
       "Çatı Dubleks      8\n",
       "Villa Tipi        7\n",
       "Çatı Katı         2\n",
       "8. Kat            2\n",
       "-2.Kat            1\n",
       "Name: kat, dtype: int64"
      ]
     },
     "execution_count": 12,
     "metadata": {},
     "output_type": "execute_result"
    }
   ],
   "source": [
    "df_5.kat.value_counts()"
   ]
  },
  {
   "cell_type": "code",
   "execution_count": 13,
   "id": "24cc83cd",
   "metadata": {},
   "outputs": [
    {
     "data": {
      "text/plain": [
       "Index(['yas', 'Bina_kat_sayisi', 'net_alan', 'oda_sayisi', 'kat', 'isinma',\n",
       "       'ilce', 'fiyat'],\n",
       "      dtype='object')"
      ]
     },
     "execution_count": 13,
     "metadata": {},
     "output_type": "execute_result"
    }
   ],
   "source": [
    "df_5.columns\n",
    "\n"
   ]
  },
  {
   "cell_type": "code",
   "execution_count": 14,
   "id": "2b909ddc",
   "metadata": {},
   "outputs": [],
   "source": [
    "from sklearn import preprocessing \n",
    "le = preprocessing.LabelEncoder()"
   ]
  },
  {
   "cell_type": "code",
   "execution_count": 15,
   "id": "f97e9cf4",
   "metadata": {},
   "outputs": [],
   "source": [
    "df_6[\"ilce\"] = le.fit_transform(df_5.ilce)\n"
   ]
  },
  {
   "cell_type": "code",
   "execution_count": null,
   "id": "e0dc5c52",
   "metadata": {},
   "outputs": [],
   "source": [
    "# le.classes_\n"
   ]
  },
  {
   "cell_type": "code",
   "execution_count": 40,
   "id": "7c1a1170",
   "metadata": {},
   "outputs": [
    {
     "data": {
      "text/plain": [
       "array(['Kombi Doğalgaz', 'Merkezi (Pay Ölçer)', 'Merkezi Doğalgaz',\n",
       "       'Doğalgaz Sobalı', 'Isıtma Yok', 'Yerden Isıtma'], dtype=object)"
      ]
     },
     "execution_count": 40,
     "metadata": {},
     "output_type": "execute_result"
    }
   ],
   "source": [
    "df_6.isinma.unique()"
   ]
  },
  {
   "cell_type": "code",
   "execution_count": 41,
   "id": "50c95e50",
   "metadata": {},
   "outputs": [
    {
     "data": {
      "text/plain": [
       "array(['Arnavutköy '], dtype=object)"
      ]
     },
     "execution_count": 41,
     "metadata": {},
     "output_type": "execute_result"
    }
   ],
   "source": [
    "le.inverse_transform([0])\n",
    "    "
   ]
  },
  {
   "cell_type": "code",
   "execution_count": 42,
   "id": "348c60f2",
   "metadata": {},
   "outputs": [],
   "source": [
    "df_6[\"isinma\"]  = le.fit_transform(df_5.isinma)"
   ]
  },
  {
   "cell_type": "code",
   "execution_count": 43,
   "id": "5a78d6f4",
   "metadata": {},
   "outputs": [
    {
     "data": {
      "text/plain": [
       "array(['Doğalgaz Sobalı', 'Isıtma Yok', 'Kombi Doğalgaz',\n",
       "       'Merkezi (Pay Ölçer)', 'Merkezi Doğalgaz', 'Yerden Isıtma'],\n",
       "      dtype=object)"
      ]
     },
     "execution_count": 43,
     "metadata": {},
     "output_type": "execute_result"
    }
   ],
   "source": [
    "le.classes_"
   ]
  },
  {
   "cell_type": "code",
   "execution_count": 45,
   "id": "11f502d8",
   "metadata": {},
   "outputs": [
    {
     "data": {
      "text/plain": [
       "array(['Isıtma Yok'], dtype=object)"
      ]
     },
     "execution_count": 45,
     "metadata": {},
     "output_type": "execute_result"
    }
   ],
   "source": [
    "le.inverse_transform([1])"
   ]
  },
  {
   "cell_type": "code",
   "execution_count": 179,
   "id": "5cf6290d",
   "metadata": {},
   "outputs": [],
   "source": [
    "df_6[\"oda_sayisi\"] = le.fit_transform(df_5.oda_sayisi)"
   ]
  },
  {
   "cell_type": "code",
   "execution_count": 180,
   "id": "f3b33598",
   "metadata": {},
   "outputs": [],
   "source": [
    "#yas sutununu string değere çevirdim.\n",
    "convert_dict = {'yas': str}"
   ]
  },
  {
   "cell_type": "code",
   "execution_count": 47,
   "id": "dd2e5758",
   "metadata": {},
   "outputs": [],
   "source": [
    "df_6[\"yas\"] = le.fit_transform(df_5.yas)"
   ]
  },
  {
   "cell_type": "code",
   "execution_count": 184,
   "id": "cc22d5d5",
   "metadata": {},
   "outputs": [
    {
     "data": {
      "text/html": [
       "<div>\n",
       "<style scoped>\n",
       "    .dataframe tbody tr th:only-of-type {\n",
       "        vertical-align: middle;\n",
       "    }\n",
       "\n",
       "    .dataframe tbody tr th {\n",
       "        vertical-align: top;\n",
       "    }\n",
       "\n",
       "    .dataframe thead th {\n",
       "        text-align: right;\n",
       "    }\n",
       "</style>\n",
       "<table border=\"1\" class=\"dataframe\">\n",
       "  <thead>\n",
       "    <tr style=\"text-align: right;\">\n",
       "      <th></th>\n",
       "      <th>yas</th>\n",
       "      <th>Bina_kat_sayisi</th>\n",
       "      <th>net_alan</th>\n",
       "      <th>oda_sayisi</th>\n",
       "      <th>kat</th>\n",
       "      <th>isinma</th>\n",
       "      <th>ilce</th>\n",
       "      <th>fiyat</th>\n",
       "    </tr>\n",
       "  </thead>\n",
       "  <tbody>\n",
       "    <tr>\n",
       "      <th>0</th>\n",
       "      <td>0</td>\n",
       "      <td>0</td>\n",
       "      <td>3</td>\n",
       "      <td>8</td>\n",
       "      <td>0.Kat</td>\n",
       "      <td>2</td>\n",
       "      <td>8</td>\n",
       "      <td>12000000</td>\n",
       "    </tr>\n",
       "    <tr>\n",
       "      <th>1</th>\n",
       "      <td>0</td>\n",
       "      <td>0</td>\n",
       "      <td>1</td>\n",
       "      <td>1</td>\n",
       "      <td>0.Kat</td>\n",
       "      <td>2</td>\n",
       "      <td>8</td>\n",
       "      <td>579000</td>\n",
       "    </tr>\n",
       "    <tr>\n",
       "      <th>2</th>\n",
       "      <td>0</td>\n",
       "      <td>0</td>\n",
       "      <td>2</td>\n",
       "      <td>3</td>\n",
       "      <td>Çatı Dubleks</td>\n",
       "      <td>2</td>\n",
       "      <td>8</td>\n",
       "      <td>1179000</td>\n",
       "    </tr>\n",
       "    <tr>\n",
       "      <th>3</th>\n",
       "      <td>8</td>\n",
       "      <td>2</td>\n",
       "      <td>1</td>\n",
       "      <td>3</td>\n",
       "      <td>3. Kat</td>\n",
       "      <td>2</td>\n",
       "      <td>8</td>\n",
       "      <td>2500000</td>\n",
       "    </tr>\n",
       "    <tr>\n",
       "      <th>4</th>\n",
       "      <td>7</td>\n",
       "      <td>0</td>\n",
       "      <td>4</td>\n",
       "      <td>1</td>\n",
       "      <td>0.Kat</td>\n",
       "      <td>2</td>\n",
       "      <td>8</td>\n",
       "      <td>820000</td>\n",
       "    </tr>\n",
       "    <tr>\n",
       "      <th>...</th>\n",
       "      <td>...</td>\n",
       "      <td>...</td>\n",
       "      <td>...</td>\n",
       "      <td>...</td>\n",
       "      <td>...</td>\n",
       "      <td>...</td>\n",
       "      <td>...</td>\n",
       "      <td>...</td>\n",
       "    </tr>\n",
       "    <tr>\n",
       "      <th>844</th>\n",
       "      <td>5</td>\n",
       "      <td>0</td>\n",
       "      <td>0</td>\n",
       "      <td>1</td>\n",
       "      <td>-1.Kat</td>\n",
       "      <td>2</td>\n",
       "      <td>32</td>\n",
       "      <td>1050000</td>\n",
       "    </tr>\n",
       "    <tr>\n",
       "      <th>845</th>\n",
       "      <td>2</td>\n",
       "      <td>0</td>\n",
       "      <td>4</td>\n",
       "      <td>1</td>\n",
       "      <td>-1.Kat</td>\n",
       "      <td>2</td>\n",
       "      <td>34</td>\n",
       "      <td>1210000</td>\n",
       "    </tr>\n",
       "    <tr>\n",
       "      <th>846</th>\n",
       "      <td>7</td>\n",
       "      <td>0</td>\n",
       "      <td>1</td>\n",
       "      <td>3</td>\n",
       "      <td>2. Kat</td>\n",
       "      <td>2</td>\n",
       "      <td>34</td>\n",
       "      <td>5600000</td>\n",
       "    </tr>\n",
       "    <tr>\n",
       "      <th>847</th>\n",
       "      <td>2</td>\n",
       "      <td>0</td>\n",
       "      <td>0</td>\n",
       "      <td>1</td>\n",
       "      <td>0.Kat</td>\n",
       "      <td>2</td>\n",
       "      <td>22</td>\n",
       "      <td>1249000</td>\n",
       "    </tr>\n",
       "    <tr>\n",
       "      <th>848</th>\n",
       "      <td>7</td>\n",
       "      <td>0</td>\n",
       "      <td>4</td>\n",
       "      <td>1</td>\n",
       "      <td>1. Kat</td>\n",
       "      <td>2</td>\n",
       "      <td>8</td>\n",
       "      <td>2200000</td>\n",
       "    </tr>\n",
       "  </tbody>\n",
       "</table>\n",
       "<p>849 rows × 8 columns</p>\n",
       "</div>"
      ],
      "text/plain": [
       "     yas  Bina_kat_sayisi  net_alan  oda_sayisi           kat  isinma  ilce  \\\n",
       "0      0                0         3           8         0.Kat       2     8   \n",
       "1      0                0         1           1         0.Kat       2     8   \n",
       "2      0                0         2           3  Çatı Dubleks       2     8   \n",
       "3      8                2         1           3        3. Kat       2     8   \n",
       "4      7                0         4           1         0.Kat       2     8   \n",
       "..   ...              ...       ...         ...           ...     ...   ...   \n",
       "844    5                0         0           1        -1.Kat       2    32   \n",
       "845    2                0         4           1        -1.Kat       2    34   \n",
       "846    7                0         1           3        2. Kat       2    34   \n",
       "847    2                0         0           1         0.Kat       2    22   \n",
       "848    7                0         4           1        1. Kat       2     8   \n",
       "\n",
       "        fiyat  \n",
       "0    12000000  \n",
       "1      579000  \n",
       "2     1179000  \n",
       "3     2500000  \n",
       "4      820000  \n",
       "..        ...  \n",
       "844   1050000  \n",
       "845   1210000  \n",
       "846   5600000  \n",
       "847   1249000  \n",
       "848   2200000  \n",
       "\n",
       "[849 rows x 8 columns]"
      ]
     },
     "execution_count": 184,
     "metadata": {},
     "output_type": "execute_result"
    }
   ],
   "source": [
    "df_6"
   ]
  },
  {
   "cell_type": "code",
   "execution_count": 55,
   "id": "4f2290bb",
   "metadata": {},
   "outputs": [],
   "source": [
    "df_6[\"Bina_kat_sayisi\"]= le.fit_transform(df_5.Bina_kat_sayisi)"
   ]
  },
  {
   "cell_type": "code",
   "execution_count": 56,
   "id": "293f0d35",
   "metadata": {},
   "outputs": [
    {
     "data": {
      "text/plain": [
       "array(['0-5', '20+', '5_20'], dtype=object)"
      ]
     },
     "execution_count": 56,
     "metadata": {},
     "output_type": "execute_result"
    }
   ],
   "source": [
    "le.classes_"
   ]
  },
  {
   "cell_type": "code",
   "execution_count": 185,
   "id": "b2f98526",
   "metadata": {},
   "outputs": [],
   "source": [
    "#excel dosyasına kaydettim.\n",
    "df_6.to_excel(\"ilce_31.xlsx\")"
   ]
  },
  {
   "cell_type": "code",
   "execution_count": 186,
   "id": "d1ce3332",
   "metadata": {},
   "outputs": [],
   "source": [
    "import pandas as pd\n"
   ]
  },
  {
   "cell_type": "code",
   "execution_count": 194,
   "id": "966964aa",
   "metadata": {},
   "outputs": [
    {
     "data": {
      "text/html": [
       "<div>\n",
       "<style scoped>\n",
       "    .dataframe tbody tr th:only-of-type {\n",
       "        vertical-align: middle;\n",
       "    }\n",
       "\n",
       "    .dataframe tbody tr th {\n",
       "        vertical-align: top;\n",
       "    }\n",
       "\n",
       "    .dataframe thead th {\n",
       "        text-align: right;\n",
       "    }\n",
       "</style>\n",
       "<table border=\"1\" class=\"dataframe\">\n",
       "  <thead>\n",
       "    <tr style=\"text-align: right;\">\n",
       "      <th></th>\n",
       "      <th>yas</th>\n",
       "      <th>Bina_kat_sayisi</th>\n",
       "      <th>net_alan</th>\n",
       "      <th>oda_sayisi</th>\n",
       "      <th>kat</th>\n",
       "      <th>isinma</th>\n",
       "      <th>ilce</th>\n",
       "      <th>fiyat</th>\n",
       "    </tr>\n",
       "  </thead>\n",
       "  <tbody>\n",
       "    <tr>\n",
       "      <th>0</th>\n",
       "      <td>0</td>\n",
       "      <td>0</td>\n",
       "      <td>3</td>\n",
       "      <td>8</td>\n",
       "      <td>0.Kat</td>\n",
       "      <td>2</td>\n",
       "      <td>8</td>\n",
       "      <td>12000000</td>\n",
       "    </tr>\n",
       "    <tr>\n",
       "      <th>1</th>\n",
       "      <td>0</td>\n",
       "      <td>0</td>\n",
       "      <td>1</td>\n",
       "      <td>1</td>\n",
       "      <td>0.Kat</td>\n",
       "      <td>2</td>\n",
       "      <td>8</td>\n",
       "      <td>579000</td>\n",
       "    </tr>\n",
       "    <tr>\n",
       "      <th>2</th>\n",
       "      <td>0</td>\n",
       "      <td>0</td>\n",
       "      <td>2</td>\n",
       "      <td>3</td>\n",
       "      <td>Çatı Dubleks</td>\n",
       "      <td>2</td>\n",
       "      <td>8</td>\n",
       "      <td>1179000</td>\n",
       "    </tr>\n",
       "    <tr>\n",
       "      <th>3</th>\n",
       "      <td>8</td>\n",
       "      <td>2</td>\n",
       "      <td>1</td>\n",
       "      <td>3</td>\n",
       "      <td>3. Kat</td>\n",
       "      <td>2</td>\n",
       "      <td>8</td>\n",
       "      <td>2500000</td>\n",
       "    </tr>\n",
       "    <tr>\n",
       "      <th>4</th>\n",
       "      <td>7</td>\n",
       "      <td>0</td>\n",
       "      <td>4</td>\n",
       "      <td>1</td>\n",
       "      <td>0.Kat</td>\n",
       "      <td>2</td>\n",
       "      <td>8</td>\n",
       "      <td>820000</td>\n",
       "    </tr>\n",
       "  </tbody>\n",
       "</table>\n",
       "</div>"
      ],
      "text/plain": [
       "   yas  Bina_kat_sayisi  net_alan  oda_sayisi           kat  isinma  ilce  \\\n",
       "0    0                0         3           8         0.Kat       2     8   \n",
       "1    0                0         1           1         0.Kat       2     8   \n",
       "2    0                0         2           3  Çatı Dubleks       2     8   \n",
       "3    8                2         1           3        3. Kat       2     8   \n",
       "4    7                0         4           1         0.Kat       2     8   \n",
       "\n",
       "      fiyat  \n",
       "0  12000000  \n",
       "1    579000  \n",
       "2   1179000  \n",
       "3   2500000  \n",
       "4    820000  "
      ]
     },
     "execution_count": 194,
     "metadata": {},
     "output_type": "execute_result"
    }
   ],
   "source": [
    "df = pd.read_excel(\"ilce_31.xlsx\")\n",
    "df.drop(\"Unnamed: 0\", axis = 1, inplace = True)\n",
    "df.head()"
   ]
  },
  {
   "cell_type": "code",
   "execution_count": 195,
   "id": "52d2918f",
   "metadata": {
    "scrolled": true
   },
   "outputs": [
    {
     "data": {
      "text/plain": [
       "0.Kat           218\n",
       "1. Kat          189\n",
       "2. Kat          135\n",
       "4. Kat          103\n",
       "5+Kat           102\n",
       "-1.Kat           47\n",
       "3. Kat           35\n",
       "Çatı Dubleks      8\n",
       "Villa Tipi        7\n",
       "Çatı Katı         2\n",
       "8. Kat            2\n",
       "-2.Kat            1\n",
       "Name: kat, dtype: int64"
      ]
     },
     "execution_count": 195,
     "metadata": {},
     "output_type": "execute_result"
    }
   ],
   "source": [
    "df.kat.value_counts()"
   ]
  },
  {
   "cell_type": "code",
   "execution_count": 196,
   "id": "c8283022",
   "metadata": {},
   "outputs": [],
   "source": [
    "df['kat'] = df['kat'].astype(str)"
   ]
  },
  {
   "cell_type": "code",
   "execution_count": 197,
   "id": "988501ac",
   "metadata": {},
   "outputs": [],
   "source": [
    "df[\"kat\"] = le.fit_transform(df.kat)\n"
   ]
  },
  {
   "cell_type": "code",
   "execution_count": 198,
   "id": "48ed31a3",
   "metadata": {},
   "outputs": [
    {
     "data": {
      "text/plain": [
       "array(['-1.Kat', '-2.Kat', '0.Kat', '1. Kat', '2. Kat', '3. Kat',\n",
       "       '4. Kat', '5+Kat', '8. Kat', 'Villa Tipi', 'Çatı Dubleks',\n",
       "       'Çatı Katı'], dtype=object)"
      ]
     },
     "execution_count": 198,
     "metadata": {},
     "output_type": "execute_result"
    }
   ],
   "source": [
    "le.classes_\n"
   ]
  },
  {
   "cell_type": "code",
   "execution_count": 199,
   "id": "df5d7b6a",
   "metadata": {},
   "outputs": [],
   "source": [
    "df.to_excel(\"son_hali_zin12.xlsx\")"
   ]
  },
  {
   "cell_type": "code",
   "execution_count": 201,
   "id": "f14dcb5d",
   "metadata": {},
   "outputs": [],
   "source": [
    "df.to_excel(\"son_hali_z1.xlsx\")"
   ]
  },
  {
   "cell_type": "code",
   "execution_count": null,
   "id": "1bafd3f0",
   "metadata": {},
   "outputs": [],
   "source": []
  }
 ],
 "metadata": {
  "kernelspec": {
   "display_name": "Python 3 (ipykernel)",
   "language": "python",
   "name": "python3"
  },
  "language_info": {
   "codemirror_mode": {
    "name": "ipython",
    "version": 3
   },
   "file_extension": ".py",
   "mimetype": "text/x-python",
   "name": "python",
   "nbconvert_exporter": "python",
   "pygments_lexer": "ipython3",
   "version": "3.9.12"
  }
 },
 "nbformat": 4,
 "nbformat_minor": 5
}
